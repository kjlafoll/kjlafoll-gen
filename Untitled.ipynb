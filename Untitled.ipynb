{
 "cells": [
  {
   "cell_type": "code",
   "execution_count": 1,
   "metadata": {},
   "outputs": [
    {
     "name": "stderr",
     "output_type": "stream",
     "text": [
      "//anaconda/envs/py35/lib/python3.6/importlib/_bootstrap.py:219: RuntimeWarning: numpy.dtype size changed, may indicate binary incompatibility. Expected 96, got 88\n",
      "  return f(*args, **kwds)\n"
     ]
    }
   ],
   "source": [
    "import pandas as pd\n",
    "import os\n",
    "import getpass\n",
    "from more_itertools import unique_everseen\n",
    "from operator import itemgetter \n",
    "import math\n",
    "import pathlib\n",
    "import xlwings as xw\n",
    "from scipy.stats.stats import pearsonr\n",
    "\n",
    "import warnings; warnings.simplefilter('ignore')\n",
    "\n",
    "username = getpass.getuser()\n",
    "mainroot = \"C:\\\\Users\\\\%s\\\\Desktop\" % username"
   ]
  },
  {
   "cell_type": "code",
   "execution_count": 5,
   "metadata": {},
   "outputs": [],
   "source": [
    "root = \"/Volumes/psy-dfs/Killgore_SCAN/UA_SCAN_Shared/PREEMPT/Phase 2/\"\n",
    "wb = xw.Book(root + \"Tracking_Storage_Scheduling_Logs/PREEMPT2_Subject_Masterlist.xlsx\")\n",
    "sheet = wb.sheets['Subjects']\n",
    "masterlist = sheet['A1:Z200'].options(pd.DataFrame, index=False, header=True).value\n",
    "masterlist.reindex(masterlist.index.drop(0))\n",
    "sublist = ['PREEMPT2_%04d' % x for x in masterlist[masterlist['Status'] == 'V2 Complete']['Record ID']]"
   ]
  },
  {
   "cell_type": "code",
   "execution_count": 22,
   "metadata": {},
   "outputs": [],
   "source": [
    "root = pathlib.Path(os.path.join(os.path.join(os.path.expanduser('~')), 'Desktop') + \"/SearchTool_Matches/\")\n",
    "\n",
    "dsplisttemp = [root / 'DSP_Data/' / x for x in os.listdir(root / 'DSP_Data/') if any (y in x for y in sublist)]\n",
    "templist = []\n",
    "for x in sublist:\n",
    "    for y in dsplisttemp:\n",
    "        if x in y.name:\n",
    "            z = pd.read_csv(y, delimiter='\\t', index_col=False)\n",
    "            z = z.drop(columns=['Unnamed: 0'])\n",
    "            cycle = y.name.split('%s_' % x)[1]\n",
    "            if 'rep_reward' in cycle:\n",
    "                cycle = cycle.split('cycle')[1]\n",
    "                cycle = cycle.split('.')[0]\n",
    "            else:\n",
    "                cycle = cycle.split('_')[0]\n",
    "            z['cycle'] = cycle\n",
    "            templist.append(z)"
   ]
  },
  {
   "cell_type": "code",
   "execution_count": 28,
   "metadata": {},
   "outputs": [],
   "source": [
    "df = pd.concat(templist)"
   ]
  },
  {
   "cell_type": "code",
   "execution_count": 30,
   "metadata": {},
   "outputs": [],
   "source": [
    "df.to_csv(\"DSPData.csv\",index=False)"
   ]
  },
  {
   "cell_type": "code",
   "execution_count": null,
   "metadata": {},
   "outputs": [],
   "source": []
  }
 ],
 "metadata": {
  "kernelspec": {
   "display_name": "Python 3",
   "language": "python",
   "name": "python3"
  },
  "language_info": {
   "codemirror_mode": {
    "name": "ipython",
    "version": 3
   },
   "file_extension": ".py",
   "mimetype": "text/x-python",
   "name": "python",
   "nbconvert_exporter": "python",
   "pygments_lexer": "ipython3",
   "version": "3.6.3"
  }
 },
 "nbformat": 4,
 "nbformat_minor": 2
}
