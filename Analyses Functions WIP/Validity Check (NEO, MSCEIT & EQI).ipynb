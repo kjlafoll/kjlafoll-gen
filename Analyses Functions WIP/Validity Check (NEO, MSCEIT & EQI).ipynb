{
 "cells": [
  {
   "cell_type": "code",
   "execution_count": 152,
   "metadata": {},
   "outputs": [],
   "source": [
    "import os\n",
    "import sys\n",
    "import pandas as pd\n",
    "import numpy as np\n",
    "import pathlib\n",
    "import xlrd\n",
    "from scipy.stats.stats import pearsonr\n",
    "import matplotlib.pyplot as plt\n",
    "import seaborn"
   ]
  },
  {
   "cell_type": "code",
   "execution_count": 243,
   "metadata": {},
   "outputs": [],
   "source": [
    "root = pathlib.Path(os.path.join(os.path.join(os.path.expanduser('~')), 'Desktop') + \"/SearchTool_Matches/\")\n",
    "cortsubslist = [499]\n",
    "#neolisttemp = [root / 'NEO/' / x for x in os.listdir(root / 'NEO/') if any(\"PREEMPT1_%04d\" % y in x for y in cortsubslist)]\n",
    "neolisttemp = [root / 'NEO/' / x for x in os.listdir(root / 'NEO/')]\n",
    "invertlist = [0,3,6,7,9,10,13,16,17,19,20,23,26,27,29,31,32,34,35,38,41,42,44,45,48,51,52,54,55,58,60,63,66,67,69,70,73,76,77,79,80,83,86,87,89,91,92,94,95,98,101,102,104,105,108,111,112,114,115,118,120,123,126,127,129,133,136,137,139,140,143,146,147,149,152,154,155,158,161,162,165,168,172,174,175,180,182,186,188,189,197,198,204,205,206,207,212,218,219,221,227,228,230,233,235,237]\n",
    "msceitlisttemp = [root / 'MSCEIT' / x for x in os.listdir(root / 'MSCEIT')]\n",
    "eqilisttemp = [root / 'EQI2' / x for x in os.listdir(root / 'EQI2')]\n",
    "wasilisttemp = [root / 'WASI' / x for x in os.listdir(root / 'WASI')]"
   ]
  },
  {
   "cell_type": "code",
   "execution_count": 232,
   "metadata": {},
   "outputs": [
    {
     "name": "stdout",
     "output_type": "stream",
     "text": [
      "\u001b[1mPREEMPT1_0212: Responding determined to be biased by acquiescence - Total Agree and Strongly Agree = 150\n",
      "\u001b[1mPREEMPT1_0499: Responding determined to be biased by acquiescence - Total Agree and Strongly Agree = 150\n"
     ]
    }
   ],
   "source": [
    "that=[]\n",
    "sub = []\n",
    "for x in neolisttemp:\n",
    "    temp = pd.read_csv(x, delimiter=',', index_col=False)\n",
    "    items = temp.iloc[:,2:242]\n",
    "    subid = temp.iloc[:,0].iloc[0]\n",
    "    spectrumlist = []\n",
    "    this = items.values.tolist()\n",
    "    for i, x in enumerate(this[0]):\n",
    "        if i not in invertlist:\n",
    "            spectrumlist.append(x)\n",
    "        else:\n",
    "            spectrumlist.append(abs(x-4))\n",
    "    randcheck = False\n",
    "    conslist = []\n",
    "    indconslist = []\n",
    "    for i, x in enumerate(spectrumlist):\n",
    "        if len(conslist) == 0:\n",
    "            conslist.append(x)\n",
    "            indconslist.append(i)\n",
    "        else:\n",
    "            if y == conslist[0]:\n",
    "                conslist.append(x)\n",
    "                indconslist.append(i)\n",
    "            else:\n",
    "                l = len(conslist)\n",
    "                n = conslist[0] #0:strongly disagree; 1:disagree; 2:neutral; 3:agree; 4:strongly agree\n",
    "                if (l > 6 and n == 0) or (l > 9 and n == 1) or (l > 10 and n == 2) or (l > 14 and n == 3) or (l > 9 and n == 4):\n",
    "                    print(conslist)\n",
    "                    print(indconslist)\n",
    "                    randcheck = True\n",
    "                conslist = [x]\n",
    "                indconslist = [i]\n",
    "    if randcheck == False:\n",
    "        #print('\\033[0m'+'%s: Responding determined to be non-random' % subid)\n",
    "        pass\n",
    "    else:\n",
    "        print('\\033[1m'+'%s: Responding determined to be random' % subid)\n",
    "    acq = spectrumlist.count(4)+spectrumlist.count(3)\n",
    "    if acq > 149:\n",
    "        print('\\033[1m'+'%s: Responding determined to be biased by acquiescence - Total Agree and Strongly Agree = %s' % (subid,acq))\n",
    "    elif acq < 51:\n",
    "        print('\\033[1m'+'%s: Responding determined to be biased by nay-saying - Total Agree and Strongly Agree = %s' % (subid,acq))\n",
    "    else:\n",
    "        pass\n",
    "        #print('\\033[0m'+'%s: Responding determined to NOT be biased by acquiescence or nay-saying' % subid)\n",
    "    that.append(acq)\n",
    "    sub.append(subid)"
   ]
  },
  {
   "cell_type": "code",
   "execution_count": 235,
   "metadata": {},
   "outputs": [
    {
     "name": "stdout",
     "output_type": "stream",
     "text": [
      "\u001b[1mPREEMPT1_0071: Scatter Unusually High - ScatScore = 138.942063335322\n",
      "\u001b[1mPREEMPT1_0100: Scatter Unusually High - ScatScore = 130.977620889583\n",
      "\u001b[1mPREEMPT1_0165: Scatter Unusually High - ScatScore = 143.539678221224\n",
      "\u001b[1mPREEMPT1_0203: Scatter Unusually Low - ScatScore = 65.01480865479779\n",
      "\u001b[1mPREEMPT1_0236: Positive Bias Detected - PosNeg = 137.238321487306\n",
      "\u001b[1mPREEMPT1_0329: Positive Bias Detected - PosNeg = 131.850362096678\n",
      "\u001b[1mPREEMPT1_0334: Scatter Unusually High - ScatScore = 132.026140797007\n",
      "\u001b[1mPREEMPT1_0499: Positive Bias Detected - PosNeg = 140.95164485111601\n"
     ]
    }
   ],
   "source": [
    "for x in msceitlisttemp:\n",
    "    try:\n",
    "        wb = xlrd.open_workbook(x, logfile=open(os.devnull, 'w'))\n",
    "        temp = pd.read_excel(wb, sheet_name='MSCEIT_Demographic_and_Scores', engine='xlrd')\n",
    "        subid = temp.iloc[:,0].iloc[0]           \n",
    "        posnegbias = temp['SS_PosNeg'][0]\n",
    "        scatter = temp['SS_Scat'][0]\n",
    "        if posnegbias >= 130:\n",
    "            print('\\033[1m'+'%s: Positive Bias Detected - PosNeg = %s' % (subid, posnegbias))\n",
    "        elif posnegbias <=70:\n",
    "            print('\\033[1m'+'%s: Negative Bias Detected - PosNeg = %s' % (subid, posnegbias))\n",
    "        else:\n",
    "            pass\n",
    "            #print('\\033[0m'+'%s: No Bias Detected - Score = %s' % (subid, posnegbias))\n",
    "        if scatter >= 130:\n",
    "            print('\\033[1m'+'%s: Scatter Unusually High - ScatScore = %s' % (subid, scatter))\n",
    "        elif scatter <=70:\n",
    "            print('\\033[1m'+'%s: Scatter Unusually Low - ScatScore = %s' % (subid, scatter))\n",
    "        else:\n",
    "            pass\n",
    "            #print('\\033[0m'+'%s: Scatter Typical - ScatScore = %s' % (subid, scatter))\n",
    "    except:\n",
    "        pass"
   ]
  },
  {
   "cell_type": "code",
   "execution_count": 244,
   "metadata": {},
   "outputs": [
    {
     "name": "stdout",
     "output_type": "stream",
     "text": [
      "PREEMPT1_0212 PREEMPT1_0212 is positively biased\n",
      "C:\\Users\\kylelafollette\\Desktop\\SearchTool_Matches\\EQI2\\eqi2-PREEMPT1_0212.xls\n",
      "PREEMPT1_0319 PREEMPT1_0319 is positively biased\n",
      "C:\\Users\\kylelafollette\\Desktop\\SearchTool_Matches\\EQI2\\eqi2-PREEMPT1_0319.xls\n",
      "PREEMPT1_0339 PREEMPT1_0339 is positively biased\n",
      "C:\\Users\\kylelafollette\\Desktop\\SearchTool_Matches\\EQI2\\eqi2-PREEMPT1_0339.xls\n",
      "PREEMPT1_0344 PREEMPT1_0344 is positively biased\n",
      "C:\\Users\\kylelafollette\\Desktop\\SearchTool_Matches\\EQI2\\eqi2-PREEMPT1_0344.xls\n",
      "PREEMPT1_0499 PREEMPT1_0499 is positively biased\n",
      "C:\\Users\\kylelafollette\\Desktop\\SearchTool_Matches\\EQI2\\eqi2-PREEMPT1_0499.xls\n",
      "PREEMPT1_0009 PREEMPT1_0009 is negatively biased\n",
      "PREEMPT1_0035 PREEMPT1_0035 is negatively biased\n",
      "PREEMPT1_0178 PREEMPT1_0178 is negatively biased\n",
      "PREEMPT1_0203 PREEMPT1_0203 is negatively biased\n"
     ]
    }
   ],
   "source": [
    "sublist = []\n",
    "poslist = []\n",
    "neglist = []\n",
    "inclist = []\n",
    "for x in eqilisttemp:\n",
    "    try:\n",
    "        wb = xlrd.open_workbook(x, logfile=open(os.devnull, 'w'))\n",
    "        temp = pd.read_excel(wb, sheet_name='EQ_i_2.0_Scores', engine='xlrd')\n",
    "        crit = pd.read_excel(wb, sheet_name='EQ_i_2.0_Item_Responses', engine='xlrd')\n",
    "        sublist.append(temp.iloc[:,1].iloc[0])           \n",
    "        poslist.append(temp['PI_R'][0])\n",
    "        neglist.append(temp['NI_R'][0])\n",
    "        inclist.append(temp['II_R'][0])\n",
    "    except:\n",
    "        pass\n",
    "posav = np.mean(poslist); possd = np.std(poslist)\n",
    "negav = np.mean(neglist); negsd = np.std(neglist)\n",
    "incav = np.mean(inclist); incsd = np.std(inclist)\n",
    "for i, x in enumerate(poslist):\n",
    "    if ((x > posav+(2*possd)) or (x < posav-(2*possd))):\n",
    "        print('%s is positively biased' % sublist[i])\n",
    "        print(eqilisttemp[i])\n",
    "for i, x in enumerate(neglist):\n",
    "    if ((x > negav+(2*negsd)) or (x < negav-(2*negsd))):\n",
    "        print('%s is negatively biased' % sublist[i])"
   ]
  },
  {
   "cell_type": "code",
   "execution_count": 167,
   "metadata": {},
   "outputs": [
    {
     "name": "stdout",
     "output_type": "stream",
     "text": [
      "r = 0.18459741195585955, p = 0.19016753971344647\n"
     ]
    },
    {
     "data": {
      "image/png": "[encoded data removed]",
      "text/plain": [
       "<Figure size 360x360 with 1 Axes>"
      ]
     },
     "metadata": {},
     "output_type": "display_data"
    }
   ],
   "source": [
    "df = pd.DataFrame()\n",
    "for x in wasilisttemp:\n",
    "    try:\n",
    "        temp = pd.read_csv(x, delimiter=',', index_col=False)\n",
    "    except:\n",
    "        wb = xlrd.open_workbook(x, logfile=open(os.devnull, 'w'))\n",
    "        temp = pd.read_excel(wb, engine='xlrd')\n",
    "    subid = temp.iloc[:,0].iloc[0]\n",
    "    try:\n",
    "        int(subid)\n",
    "        subid = 'PREEMPT1_%04d' % subid\n",
    "    except:\n",
    "        pass\n",
    "    verb = temp['wasi_vci_cscore'][0]\n",
    "    perf = temp['wasi_pri_cscore'][0]\n",
    "    full = temp['wasi_fsiq4_cscore'][0]\n",
    "    this = pd.DataFrame([[subid, verb, perf, full]])\n",
    "    df = df.append(this, ignore_index=True)\n",
    "df.columns = ['SubID','Verb','Perf','Full']\n",
    "\n",
    "msdf = pd.DataFrame()\n",
    "for x in msceitlisttemp:\n",
    "    try:\n",
    "        wb = xlrd.open_workbook(x, logfile=open(os.devnull, 'w'))\n",
    "        temp = pd.read_excel(wb, sheet_name='MSCEIT_Demographic_and_Scores', engine='xlrd')\n",
    "        subid = temp.iloc[:,0].iloc[0]  \n",
    "        msceittot = temp['SS_TOT'][0]\n",
    "        if subid in df['SubID'].values:\n",
    "            verb = df.loc[df['SubID'] == subid, 'Verb'].iloc[0]\n",
    "            perf = df.loc[df['SubID'] == subid, 'Perf'].iloc[0]\n",
    "            full = df.loc[df['SubID'] == subid, 'Full'].iloc[0]\n",
    "            this = pd.DataFrame([[subid, msceittot, verb, perf, full]])\n",
    "            msdf = msdf.append(this, ignore_index=True)\n",
    "    except:\n",
    "        pass\n",
    "msdf.columns = ['SubID','MSCEIT','Verb','Perf','Full']\n",
    "\n",
    "title = 'Title'\n",
    "xvar = 'MSCEIT'\n",
    "yvar = 'Full'\n",
    "lm = seaborn.lmplot(x=xvar, y=yvar, palette=('r'), data=msdf, legend_out=False)\n",
    "ax = plt.gca()\n",
    "ax.set_title(\"%s\\nr=%.4f, p=%.4f\" % (title,pearsonr(msdf[xvar],msdf[yvar])[0],pearsonr(msdf[xvar],msdf[yvar])[1]))\n",
    "print(\"r = %s, p = %s\" % pearsonr(msdf[xvar],msdf[yvar]))\n",
    "    "
   ]
  },
  {
   "cell_type": "code",
   "execution_count": null,
   "metadata": {},
   "outputs": [],
   "source": []
  }
 ],
 "metadata": {
  "kernelspec": {
   "display_name": "Python 3",
   "language": "python",
   "name": "python3"
  },
  "language_info": {
   "codemirror_mode": {
    "name": "ipython",
    "version": 3
   },
   "file_extension": ".py",
   "mimetype": "text/x-python",
   "name": "python",
   "nbconvert_exporter": "python",
   "pygments_lexer": "ipython3",
   "version": "3.6.5"
  }
 },
 "nbformat": 4,
 "nbformat_minor": 2
}
