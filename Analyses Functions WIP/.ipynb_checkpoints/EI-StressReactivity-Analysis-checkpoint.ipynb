{
 "cells": [
  {
   "cell_type": "code",
   "execution_count": 183,
   "metadata": {},
   "outputs": [],
   "source": [
    "import os\n",
    "import pandas as pd\n",
    "import numpy as np\n",
    "import math\n",
    "from scipy import stats\n",
    "import seaborn\n",
    "import matplotlib as mp\n",
    "from scipy.stats.stats import pearsonr\n",
    "import re\n",
    "import xlrd"
   ]
  },
  {
   "cell_type": "code",
   "execution_count": 230,
   "metadata": {},
   "outputs": [],
   "source": [
    "root = os.path.join(os.path.join(os.path.expanduser('~')), 'Desktop') + \"/SearchTool_Matches/\"\n",
    "cortdf = pd.read_excel(open(root+'Cortisol/Cortisol_Analysis.xlsx',\"rb\"), index_col=False)\n",
    "cortdf['Log Mean (µg/dL)'] = [math.log(y,10) for y in cortdf['Mean (µg/dL)']]\n",
    "trierdf = cortdf.loc[(cortdf['General Time'] == 8) | (cortdf['General Time'] == 9)]\n",
    "triersubloopdf = cortdf.loc[(cortdf['General Time'] == 8)]\n",
    "cortsubslist = list(triersubloopdf['Record ID'].astype(int))\n",
    "cortsubslist.sort()"
   ]
  },
  {
   "cell_type": "code",
   "execution_count": 237,
   "metadata": {},
   "outputs": [],
   "source": [
    "msceitlist = [root+'MSCEIT/'+x for x in os.listdir(root+'MSCEIT/') if any(\"PREEMPT1_%04d\" % y in x for y in cortsubslist)]\n",
    "eqilist = [root+'EQI2/'+x for x in os.listdir(root+'EQI2/') if any(\"PREEMPT1_%04d\" % y in x for y in cortsubslist)]"
   ]
  },
  {
   "cell_type": "code",
   "execution_count": 239,
   "metadata": {},
   "outputs": [
    {
     "name": "stdout",
     "output_type": "stream",
     "text": [
      "0\n",
      "1\n",
      "2\n",
      "3\n",
      "4\n",
      "5\n",
      "6\n",
      "7\n",
      "8\n",
      "9\n",
      "10\n",
      "11\n",
      "12\n",
      "13\n",
      "14\n",
      "15\n",
      "16\n",
      "17\n",
      "18\n",
      "19\n",
      "20\n",
      "21\n",
      "22\n",
      "23\n",
      "24\n",
      "25\n",
      "26\n",
      "27\n",
      "28\n",
      "29\n",
      "30\n",
      "31\n",
      "32\n",
      "33\n",
      "34\n",
      "35\n",
      "36\n",
      "37\n",
      "38\n",
      "39\n",
      "40\n",
      "41\n",
      "42\n",
      "43\n",
      "44\n",
      "45\n",
      "46\n",
      "47\n"
     ]
    }
   ],
   "source": [
    "msceittotallist = []\n",
    "msceitexparealist = []\n",
    "msceitstratarealist = []\n",
    "msceitpercbranchlist = []\n",
    "msceitusingbranchlist = []\n",
    "msceitunderbranchlist = []\n",
    "msceitmanagebranchlist = []\n",
    "eqitotallist = []; eqisplist = []; eqisrlist = []; eqisalist = []; eqieslist = []; eqiselist = []; eqieelist = []; eqiaslist = []; eqiinlist = []; eqiislist = []; eqiirlist = []; eqiemlist = []; eqirelist = []; eqidmlist = []; eqipslist = []; eqirtlist = []; eqiiclist = []; eqiiclist = []; eqismlist = []; eqifllist = []; eqistlist = []; eqioplist = []; eqihalist = []\n",
    "\n",
    "for i, x in enumerate(msceitlist):\n",
    "    try:\n",
    "        wb = xlrd.open_workbook(x, logfile=open(os.devnull, 'w')) \n",
    "        msceittotallist.append([i, pd.read_excel(wb, sheet_name='MSCEIT_Demographic_and_Scores', engine='xlrd')['SS_TOT'][0]])\n",
    "        msceitexparealist.append(pd.read_excel(wb, sheet_name='MSCEIT_Demographic_and_Scores', engine='xlrd')['SS_EXP'][0])\n",
    "        msceitstratarealist.append(pd.read_excel(wb, sheet_name='MSCEIT_Demographic_and_Scores', engine='xlrd')['SS_REA'][0])\n",
    "        msceitpercbranchlist.append(pd.read_excel(wb, sheet_name='MSCEIT_Demographic_and_Scores', engine='xlrd')['SS_B1'][0])\n",
    "        msceitusingbranchlist.append(pd.read_excel(wb, sheet_name='MSCEIT_Demographic_and_Scores', engine='xlrd')['SS_B2'][0])\n",
    "        msceitunderbranchlist.append(pd.read_excel(wb, sheet_name='MSCEIT_Demographic_and_Scores', engine='xlrd')['SS_B3'][0])\n",
    "        msceitmanagebranchlist.append(pd.read_excel(wb, sheet_name='MSCEIT_Demographic_and_Scores', engine='xlrd')['SS_B4'][0])\n",
    "    except:\n",
    "        msceitlist.remove(msceitlist[i])\n",
    "for x in eqilist:\n",
    "    try:\n",
    "        wb = xlrd.open_workbook(x, logfile=open(os.devnull, 'w'))\n",
    "        eqitotallist.append(pd.read_excel(wb, sheet_name='EQ_i_2.0_Scores', engine='xlrd')['TOT_T'][0])\n",
    "        eqisplist.append(pd.read_excel(wb, sheet_name='EQ_i_2.0_Scores', engine='xlrd')['SP_T'][0])\n",
    "        eqisrlist.append(pd.read_excel(wb, sheet_name='EQ_i_2.0_Scores', engine='xlrd')['SR_T'][0])\n",
    "        eqisalist.append(pd.read_excel(wb, sheet_name='EQ_i_2.0_Scores', engine='xlrd')['SA_T'][0])\n",
    "        eqieslist.append(pd.read_excel(wb, sheet_name='EQ_i_2.0_Scores', engine='xlrd')['ES_T'][0])\n",
    "        eqiselist.append(pd.read_excel(wb, sheet_name='EQ_i_2.0_Scores', engine='xlrd')['SE_T'][0])\n",
    "        eqieelist.append(pd.read_excel(wb, sheet_name='EQ_i_2.0_Scores', engine='xlrd')['EE_T'][0])\n",
    "        eqiaslist.append(pd.read_excel(wb, sheet_name='EQ_i_2.0_Scores', engine='xlrd')['AS_T'][0])\n",
    "        eqiinlist.append(pd.read_excel(wb, sheet_name='EQ_i_2.0_Scores', engine='xlrd')['IN_T'][0])\n",
    "        eqiislist.append(pd.read_excel(wb, sheet_name='EQ_i_2.0_Scores', engine='xlrd')['IS_T'][0])\n",
    "        eqiirlist.append(pd.read_excel(wb, sheet_name='EQ_i_2.0_Scores', engine='xlrd')['IR_T'][0])\n",
    "        eqiemlist.append(pd.read_excel(wb, sheet_name='EQ_i_2.0_Scores', engine='xlrd')['EM_T'][0])\n",
    "        eqirelist.append(pd.read_excel(wb, sheet_name='EQ_i_2.0_Scores', engine='xlrd')['RE_T'][0])\n",
    "        eqidmlist.append(pd.read_excel(wb, sheet_name='EQ_i_2.0_Scores', engine='xlrd')['DM_T'][0])\n",
    "        eqipslist.append(pd.read_excel(wb, sheet_name='EQ_i_2.0_Scores', engine='xlrd')['PS_T'][0])\n",
    "        eqirtlist.append(pd.read_excel(wb, sheet_name='EQ_i_2.0_Scores', engine='xlrd')['RT_T'][0])\n",
    "        eqiiclist.append(pd.read_excel(wb, sheet_name='EQ_i_2.0_Scores', engine='xlrd')['IC_T'][0])\n",
    "        eqismlist.append(pd.read_excel(wb, sheet_name='EQ_i_2.0_Scores', engine='xlrd')['SM_T'][0])\n",
    "        eqifllist.append(pd.read_excel(wb, sheet_name='EQ_i_2.0_Scores', engine='xlrd')['FL_T'][0])\n",
    "        eqistlist.append(pd.read_excel(wb, sheet_name='EQ_i_2.0_Scores', engine='xlrd')['ST_T'][0])\n",
    "        eqioplist.append(pd.read_excel(wb, sheet_name='EQ_i_2.0_Scores', engine='xlrd')['OP_T'][0])\n",
    "        eqihalist.append(pd.read_excel(wb, sheet_name='EQ_i_2.0_Scores', engine='xlrd')['HA_T'][0])\n",
    "    except:\n",
    "        eqilist.remove(eqilist[i])\n",
    "    \n",
    "msceitsubslist = []\n",
    "eqisubslist = []\n",
    "for x in msceitlist:\n",
    "    try:\n",
    "        msceitsubslist.append(int(re.search('PREEMPT1_(.+?).xls', x).group(1)))\n",
    "    except AttributeError:\n",
    "        pass\n",
    "for x in eqilist:\n",
    "    try:\n",
    "        eqisubslist.append(int(re.search('PREEMPT1_(.+?).xls', x).group(1)))\n",
    "    except AttributeError:\n",
    "        pass"
   ]
  },
  {
   "cell_type": "code",
   "execution_count": 225,
   "metadata": {},
   "outputs": [],
   "source": [
    "pretrierlist8 = []\n",
    "posttrierlist9 = []\n",
    "diftrierlist = []\n",
    "for x in msceitsubslist:\n",
    "    try:\n",
    "        pretrierlist8.append(trierdf.loc[(trierdf['Record ID'] == int(x)) & (trierdf['General Time'] == 8), 'Mean (µg/dL)'].iloc[0])\n",
    "        posttrierlist9.append(trierdf.loc[(trierdf['Record ID'] == int(x)) & (trierdf['General Time'] == 9), 'Mean (µg/dL)'].iloc[0])\n",
    "    except:\n",
    "        pass\n",
    "pretrierlist8 = [math.log(y,10) for y in pretrierlist8]\n",
    "posttrierlist9 = [math.log(y,10) for y in posttrierlist9]\n",
    "diftrierlist = [i-j for i,j in zip(posttrierlist9,pretrierlist8)]\n",
    "diftrierlistz = stats.mstats.zscore(diftrierlist)"
   ]
  },
  {
   "cell_type": "code",
   "execution_count": 242,
   "metadata": {},
   "outputs": [
    {
     "name": "stdout",
     "output_type": "stream",
     "text": [
      "r = 0.3259249314152116, p = 0.023779494218365123\n"
     ]
    },
    {
     "name": "stderr",
     "output_type": "stream",
     "text": [
      "//anaconda/envs/py35/lib/python3.6/site-packages/scipy/stats/stats.py:1713: FutureWarning: Using a non-tuple sequence for multidimensional indexing is deprecated; use `arr[tuple(seq)]` instead of `arr[seq]`. In the future this will be interpreted as an array index, `arr[np.array(seq)]`, which will result either in an error or a different result.\n",
      "  return np.add.reduce(sorted[indexer] * weights, axis=axis) / sumval\n"
     ]
    },
    {
     "data": {
      "image/png": "[encoded data removed]",
      "text/plain": [
       "<Figure size 360x360 with 1 Axes>"
      ]
     },
     "metadata": {},
     "output_type": "display_data"
    }
   ],
   "source": [
    "#Edit These\n",
    "SAVE = False\n",
    "var1 = diftrierlistz\n",
    "var2 = msceitmanagebranchlist\n",
    "var1label = \"Log Cortisol Delta (z-score)\"\n",
    "var2label = \"Reward x Transition Interaction Effect (Model-Based)\"\n",
    "title = \"MSCEIT Total Score vs.\\nReward x Transition Interaction Effect (N=%s)\" % len(var1)\n",
    "savename = \"Analyses\\\\Markov\\\\MSCEITTotal-ModelBased.pdf\"\n",
    "\n",
    "#--------------------------------------------\n",
    "table = pd.DataFrame(\n",
    "    {var1label: var1,\n",
    "    var2label: var2\n",
    "    })\n",
    "for x in table.columns:\n",
    "    table = table[np.isfinite(table[x])]\n",
    "\n",
    "lm = seaborn.lmplot(x=var1label, y=var2label, palette=('r'), data=table, legend_out=False)\n",
    "ax = mp.pyplot.gca()\n",
    "ax.set_title(\"%s\\nr=%.4f, p=%.4f\" % (title,pearsonr(table[var1label],table[var2label])[0],pearsonr(table[var1label],table[var2label])[1]))\n",
    "print(\"r = %s, p = %s\" % pearsonr(table[var1label],table[var2label]))\n",
    "if SAVE == True:\n",
    "    lm.savefig(root+savename, bbox_inches='tight')"
   ]
  },
  {
   "cell_type": "code",
   "execution_count": null,
   "metadata": {},
   "outputs": [],
   "source": []
  }
 ],
 "metadata": {
  "kernelspec": {
   "display_name": "Python 3",
   "language": "python",
   "name": "python3"
  },
  "language_info": {
   "codemirror_mode": {
    "name": "ipython",
    "version": 3
   },
   "file_extension": ".py",
   "mimetype": "text/x-python",
   "name": "python",
   "nbconvert_exporter": "python",
   "pygments_lexer": "ipython3",
   "version": "3.6.3"
  }
 },
 "nbformat": 4,
 "nbformat_minor": 2
}
