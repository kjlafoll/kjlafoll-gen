{
 "cells": [
  {
   "cell_type": "code",
   "execution_count": 814,
   "metadata": {},
   "outputs": [],
   "source": [
    "import os\n",
    "import sys\n",
    "import pandas as pd\n",
    "import numpy as np\n",
    "import math\n",
    "import statsmodels.api as sm\n",
    "from scipy import stats\n",
    "import seaborn\n",
    "import matplotlib.pyplot as plt\n",
    "from scipy.stats.stats import pearsonr\n",
    "import re\n",
    "import xlrd\n",
    "import pathlib\n",
    "from more_itertools import unique_everseen\n",
    "from sklearn import linear_model, cross_validation, model_selection\n",
    "from sklearn.metrics import *\n",
    "from sklearn.decomposition import PCA, FactorAnalysis"
   ]
  },
  {
   "cell_type": "code",
   "execution_count": 840,
   "metadata": {},
   "outputs": [],
   "source": [
    "root = pathlib.Path(os.path.join(os.path.join(os.path.expanduser('~')), 'Desktop') + \"/SearchTool_Matches/\")\n",
    "cortdf = pd.read_excel(open(root / 'Cortisol/Cortisol_Analysis.xlsx',\"rb\"), index_col=False)\n",
    "cortdf['Log Mean (µg/dL)'] = [math.log(y,10) for y in cortdf['Mean (µg/dL)']]\n",
    "cortsubslist = list(unique_everseen(cortdf['Record ID'].astype(int)))\n",
    "cortsubslist.sort()"
   ]
  },
  {
   "cell_type": "code",
   "execution_count": 843,
   "metadata": {},
   "outputs": [
    {
     "name": "stdout",
     "output_type": "stream",
     "text": [
      "0\n"
     ]
    }
   ],
   "source": [
    "msceitlisttemp = [root / 'MSCEIT/' / x for x in os.listdir(root / 'MSCEIT/') if any(\"PREEMPT1_%04d\" % y in x for y in cortsubslist)]\n",
    "eqilisttemp = [root / 'EQI2/' / x for x in os.listdir(root / 'EQI2/') if any(\"PREEMPT1_%04d\" % y in x for y in cortsubslist)]\n",
    "templist = [msceitlisttemp, eqilisttemp]\n",
    "assessmentpathlist = []\n",
    "\n",
    "for i, x in enumerate(templist):\n",
    "    assessmentpathlist.append([])\n",
    "    for y in cortsubslist:\n",
    "        for z in x:\n",
    "            if (\"%04d\" % y) in z.name:\n",
    "                assessmentpathlist[i].append([y, z])\n",
    "\n",
    "msceittotallist = []\n",
    "msceitexparealist = []\n",
    "msceitstratarealist = []\n",
    "msceitpercbranchlist = []\n",
    "msceitusingbranchlist = []\n",
    "msceitunderbranchlist = []\n",
    "msceitmanagebranchlist = []\n",
    "eqitotallist = []; eqisplist = []; eqisrlist = []; eqisalist = []; eqieslist = []; eqiselist = []; eqieelist = []; eqiaslist = []; eqiinlist = []; eqiislist = []; eqiirlist = []; eqiemlist = []; eqirelist = []; eqidmlist = []; eqipslist = []; eqirtlist = []; eqiiclist = []; eqiiclist = []; eqismlist = []; eqifllist = []; eqistlist = []; eqioplist = []; eqihalist = []\n",
    "age = []; gender = []\n",
    "deletelist = []\n",
    "\n",
    "deletelist.append([])\n",
    "for i, x in enumerate(assessmentpathlist[0]):\n",
    "    try:\n",
    "        wb = xlrd.open_workbook(x[1], logfile=open(os.devnull, 'w')) \n",
    "        temp = pd.read_excel(wb, sheet_name='MSCEIT_Demographic_and_Scores', engine='xlrd')\n",
    "        msceittotallist.append([x[0], temp['SS_TOT'][0]]) #0\n",
    "        msceitexparealist.append([x[0], temp['SS_EXP'][0]]) #1\n",
    "        msceitstratarealist.append([x[0], temp['SS_REA'][0]]) #2\n",
    "        msceitpercbranchlist.append([x[0], temp['SS_B1'][0]]) #3\n",
    "        msceitusingbranchlist.append([x[0], temp['SS_B2'][0]]) #4\n",
    "        msceitunderbranchlist.append([x[0], temp['SS_B3'][0]]) #5\n",
    "        msceitmanagebranchlist.append([x[0], temp['SS_B4'][0]]) #6\n",
    "        age.append([x[0], temp['Age'][0]])\n",
    "        gender.append([x[0], temp['Gender'][0]])\n",
    "    except:\n",
    "        deletelist[0].append(i)\n",
    "for x in deletelist[0]:\n",
    "    assessmentpathlist[0].pop(x)\n",
    "    print(x)\n",
    "    \n",
    "deletelist.append([])\n",
    "for i, x in enumerate(assessmentpathlist[1]):\n",
    "    try:\n",
    "        wb = xlrd.open_workbook(x[1], logfile=open(os.devnull, 'w'))\n",
    "        temp = pd.read_excel(wb, sheet_name='EQ_i_2.0_Scores', engine='xlrd')\n",
    "        eqitotallist.append([x[0], temp['TOT_T'][0]]) #0\n",
    "        eqisplist.append([x[0], temp['SP_T'][0]]) #1\n",
    "        eqisrlist.append([x[0], temp['SR_T'][0]]) #2\n",
    "        eqisalist.append([x[0], temp['SA_T'][0]]) #3\n",
    "        eqieslist.append([x[0], temp['ES_T'][0]]) #4\n",
    "        eqiselist.append([x[0], temp['SE_T'][0]]) #5\n",
    "        eqieelist.append([x[0], temp['EE_T'][0]]) #6\n",
    "        eqiaslist.append([x[0], temp['AS_T'][0]]) #7\n",
    "        eqiinlist.append([x[0], temp['IN_T'][0]]) #8\n",
    "        eqiislist.append([x[0], temp['IS_T'][0]]) #9\n",
    "        eqiirlist.append([x[0], temp['IR_T'][0]]) #10\n",
    "        eqiemlist.append([x[0], temp['EM_T'][0]]) #11\n",
    "        eqirelist.append([x[0], temp['RE_T'][0]]) #12\n",
    "        eqidmlist.append([x[0], temp['DM_T'][0]]) #13\n",
    "        eqipslist.append([x[0], temp['PS_T'][0]]) #14\n",
    "        eqirtlist.append([x[0], temp['RT_T'][0]]) #15\n",
    "        eqiiclist.append([x[0], temp['IC_T'][0]]) #16\n",
    "        eqismlist.append([x[0], temp['SM_T'][0]]) #17\n",
    "        eqifllist.append([x[0], temp['FL_T'][0]]) #18\n",
    "        eqistlist.append([x[0], temp['ST_T'][0]]) #19\n",
    "        eqioplist.append([x[0], temp['OP_T'][0]]) #20\n",
    "        eqihalist.append([x[0], temp['HA_T'][0]]) #21\n",
    "    except:\n",
    "        deletelist[1].append(i)\n",
    "for x in deletelist[1]:\n",
    "    assessmentpathlist[0].pop(x)\n",
    "\n",
    "msceitlistlist = [msceittotallist, msceitexparealist, msceitstratarealist, msceitpercbranchlist, msceitusingbranchlist, msceitunderbranchlist, msceitmanagebranchlist]\n",
    "eqilistlist = [eqitotallist,eqisplist,eqisrlist,eqisalist,eqieslist,eqiselist,eqieelist,eqiaslist,eqiinlist,eqiislist,eqiirlist,eqiemlist,eqirelist,eqidmlist,eqipslist,eqirtlist,eqiiclist,eqismlist,eqifllist,eqistlist,eqioplist,eqihalist]\n",
    "other = [age, gender]\n",
    "\n"
   ]
  },
  {
   "cell_type": "code",
   "execution_count": 846,
   "metadata": {},
   "outputs": [],
   "source": [
    "assessmentlist = [msceitlistlist,eqilistlist]\n",
    "deletelist = []\n",
    "for i, w in enumerate(assessmentlist): #for a specific assessment group\n",
    "    deletelist.append([])\n",
    "    for j, x in enumerate(w): #for a specific subscale of an assessment group i.e., msceitmanagebranchlist\n",
    "        deletelist[i].append([])\n",
    "        inddelete = []\n",
    "        for k, z in enumerate([y[1] for y in x]): #for a score, not index, of a subject in the subscale list\n",
    "            if ((z > np.mean([y[1] for y in x]) + 3*np.std([y[1] for y in x])) or z < np.mean([y[1] for y in x]) - 3*np.std([y[1] for y in x])):\n",
    "                inddelete.append(k)\n",
    "        deletelist[i][j] = inddelete\n",
    "        for x in deletelist[i][j]:\n",
    "            assessmentlist[i][j].pop(x)"
   ]
  },
  {
   "cell_type": "code",
   "execution_count": 460,
   "metadata": {},
   "outputs": [],
   "source": [
    "cortpoint1dif = 8\n",
    "cortpoint2dif = 9\n",
    "assessmentcortpairs=[]\n",
    "for i, assessmentgroup in enumerate(range(len(assessmentlist))):\n",
    "    assessmentcortpairs.append([])\n",
    "    for assessmentsubscale in range(len(assessmentlist[assessmentgroup])):\n",
    "        logcortlist = []\n",
    "        deletelist = []\n",
    "        diftrierlist = []\n",
    "        for i, x in enumerate(assessmentlist[assessmentgroup][assessmentsubscale]):\n",
    "            logcortlist.append([x[0]])\n",
    "            try:\n",
    "                for y in [cortpoint1dif, cortpoint2dif]: \n",
    "                    logcortlist[i].append(cortdf.loc[(cortdf['Record ID'] == int(x[0])) & (cortdf['General Time'] == y), 'Log Mean (µg/dL)'].iloc[0])\n",
    "            except:\n",
    "                deletelist.append(i)\n",
    "        assessmentvar = assessmentlist[assessmentgroup][assessmentsubscale]\n",
    "        for x in deletelist:\n",
    "            logcortlist.pop(x)\n",
    "            assessmentvar.pop(x)\n",
    "        diftrierlist = [i-j for i,j in zip([x[2] for x in logcortlist],[x[1] for x in logcortlist])]\n",
    "        diftrierlistz = list(stats.mstats.zscore(diftrierlist))\n",
    "        assessmentcortpairs[assessmentgroup].append([[x[0] for x in assessmentvar], [x[1] for x in assessmentvar], diftrierlist])\n",
    "        \n",
    "        "
   ]
  },
  {
   "cell_type": "code",
   "execution_count": 603,
   "metadata": {},
   "outputs": [
    {
     "name": "stderr",
     "output_type": "stream",
     "text": [
      "//anaconda/envs/py35/lib/python3.6/site-packages/scipy/stats/stats.py:1713: FutureWarning: Using a non-tuple sequence for multidimensional indexing is deprecated; use `arr[tuple(seq)]` instead of `arr[seq]`. In the future this will be interpreted as an array index, `arr[np.array(seq)]`, which will result either in an error or a different result.\n",
      "  return np.add.reduce(sorted[indexer] * weights, axis=axis) / sumval\n"
     ]
    },
    {
     "name": "stdout",
     "output_type": "stream",
     "text": [
      "r = 0.4747984801202374, p = 0.0011279822213663476\n"
     ]
    },
    {
     "data": {
      "image/png": "[encoded data removed]",
      "text/plain": [
       "<Figure size 360x360 with 1 Axes>"
      ]
     },
     "metadata": {},
     "output_type": "display_data"
    }
   ],
   "source": [
    "assessmentgroup = 0\n",
    "assessmentsubscale = 6\n",
    "\n",
    "#Edit These\n",
    "SAVE = False\n",
    "var1 = list(stats.mstats.zscore(assessmentcortpairs[assessmentgroup][assessmentsubscale][2]))\n",
    "var2 = assessmentcortpairs[assessmentgroup][assessmentsubscale][1]\n",
    "var1label = \"Log Cortisol Delta (z-score)\"\n",
    "var2label = \"MSCEIT Managing Emotions Branch Score\"\n",
    "title = \"MSCEIT Managing Emotions Branch Score vs.\\nPre-Post TSST Difference in Cortisol (N=%s)\" % len(var1)\n",
    "savename = \"Analyses\\\\MSCEIT\\\\MSCEITManage-TSSTStress.pdf\"\n",
    "\n",
    "#--------------------------------------------\n",
    "table = pd.DataFrame(\n",
    "    {var1label: var1,\n",
    "    var2label: var2\n",
    "    })\n",
    "for x in table.columns:\n",
    "    table = table[np.isfinite(table[x])]\n",
    "\n",
    "lm = seaborn.lmplot(x=var1label, y=var2label, palette=('r'), data=table, legend_out=False)\n",
    "ax = plt.gca()\n",
    "ax.set_title(\"%s\\nr=%.4f, p=%.4f\" % (title,pearsonr(table[var1label],table[var2label])[0],pearsonr(table[var1label],table[var2label])[1]))\n",
    "print(\"r = %s, p = %s\" % pearsonr(table[var1label],table[var2label]))\n",
    "if SAVE == True:\n",
    "    lm.savefig(root / savename, bbox_inches='tight')"
   ]
  },
  {
   "cell_type": "code",
   "execution_count": 625,
   "metadata": {},
   "outputs": [],
   "source": [
    "chosenassessments = [0,1]\n",
    "\n",
    "\n",
    "\n",
    "msceitcols = ['MSCEIT_TOT', 'MSCEIT_EXP', 'MSCEIT_STRAT', 'MSCEIT_PERC', 'MSCEIT_USE', 'MSCEIT_UNDER', 'MSCEIT_MANAGE']\n",
    "eqicols = ['EQI_TOT', 'EQI_SP', 'EQI_SR', 'EQI_SA', 'EQI_ES', 'EQI_SE', 'EQI_EE', 'EQI_AS', 'EQI_IN', 'EQI_IS', 'EQI_IR', 'EQI_EM', 'EQI_RE', 'EQI_DM', 'EQI_PS', 'EQI_RT', 'EQI_IC', 'EQI_SM', 'EQI_FL', 'EQI_ST', 'EQI_OP', 'EQI_HA']\n",
    "cols = [msceitcols, eqicols]\n",
    "chosencols = []\n",
    "for x in chosenassessments:\n",
    "    chosencols = chosencols + cols[x]\n",
    "\n",
    "regressionlist = assessmentcortpairs\n",
    "ms = []\n",
    "table = []\n",
    "for mssubs in chosenassessments:\n",
    "    ms = ms + [x[0] for x in assessmentcortpairs[mssubs]]\n",
    "setlist = ms\n",
    "intersectlist = list(set(setlist[0]).intersection(*setlist))\n",
    "for h in chosenassessments:\n",
    "    for i, y in enumerate([x[0] for x in assessmentcortpairs[h]]):\n",
    "        for j, z in enumerate(y):\n",
    "            if z not in intersectlist:\n",
    "                for k, x in enumerate(regressionlist[h][i]):\n",
    "                    regressionlist[h][i][k].pop(j)\n",
    "    table = table + [x[1] for x in regressionlist[h]]\n",
    "clf = linear_model.LinearRegression()\n",
    "df = pd.DataFrame(table).T\n",
    "df.columns = chosencols\n",
    "for x in range(len(df.columns)):\n",
    "    df.iloc[:,x] = list(stats.mstats.zscore(df.iloc[:,x]))"
   ]
  },
  {
   "cell_type": "code",
   "execution_count": 804,
   "metadata": {},
   "outputs": [
    {
     "data": {
      "text/html": [
       "<table class=\"simpletable\">\n",
       "<caption>OLS Regression Results</caption>\n",
       "<tr>\n",
       "  <th>Dep. Variable:</th>            <td>y</td>        <th>  R-squared:         </th> <td>   0.514</td>\n",
       "</tr>\n",
       "<tr>\n",
       "  <th>Model:</th>                   <td>OLS</td>       <th>  Adj. R-squared:    </th> <td>   0.386</td>\n",
       "</tr>\n",
       "<tr>\n",
       "  <th>Method:</th>             <td>Least Squares</td>  <th>  F-statistic:       </th> <td>   4.003</td>\n",
       "</tr>\n",
       "<tr>\n",
       "  <th>Date:</th>             <td>Sun, 05 Aug 2018</td> <th>  Prob (F-statistic):</th>  <td>0.00146</td>\n",
       "</tr>\n",
       "<tr>\n",
       "  <th>Time:</th>                 <td>21:38:15</td>     <th>  Log-Likelihood:    </th> <td> -46.538</td>\n",
       "</tr>\n",
       "<tr>\n",
       "  <th>No. Observations:</th>      <td>    44</td>      <th>  AIC:               </th> <td>   113.1</td>\n",
       "</tr>\n",
       "<tr>\n",
       "  <th>Df Residuals:</th>          <td>    34</td>      <th>  BIC:               </th> <td>   130.9</td>\n",
       "</tr>\n",
       "<tr>\n",
       "  <th>Df Model:</th>              <td>     9</td>      <th>                     </th>     <td> </td>   \n",
       "</tr>\n",
       "<tr>\n",
       "  <th>Covariance Type:</th>      <td>nonrobust</td>    <th>                     </th>     <td> </td>   \n",
       "</tr>\n",
       "</table>\n",
       "<table class=\"simpletable\">\n",
       "<tr>\n",
       "    <td></td>       <th>coef</th>     <th>std err</th>      <th>t</th>      <th>P>|t|</th>  <th>[0.025</th>    <th>0.975]</th>  \n",
       "</tr>\n",
       "<tr>\n",
       "  <th>const</th> <td> 4.163e-17</td> <td>    0.119</td> <td> 3.48e-16</td> <td> 1.000</td> <td>   -0.243</td> <td>    0.243</td>\n",
       "</tr>\n",
       "<tr>\n",
       "  <th>0</th>     <td>    0.0799</td> <td>    0.036</td> <td>    2.222</td> <td> 0.033</td> <td>    0.007</td> <td>    0.153</td>\n",
       "</tr>\n",
       "<tr>\n",
       "  <th>4</th>     <td>   -0.2025</td> <td>    0.086</td> <td>   -2.362</td> <td> 0.024</td> <td>   -0.377</td> <td>   -0.028</td>\n",
       "</tr>\n",
       "<tr>\n",
       "  <th>5</th>     <td>    0.2150</td> <td>    0.094</td> <td>    2.292</td> <td> 0.028</td> <td>    0.024</td> <td>    0.406</td>\n",
       "</tr>\n",
       "<tr>\n",
       "  <th>8</th>     <td>   -0.4418</td> <td>    0.147</td> <td>   -3.000</td> <td> 0.005</td> <td>   -0.741</td> <td>   -0.143</td>\n",
       "</tr>\n",
       "<tr>\n",
       "  <th>12</th>    <td>    0.3485</td> <td>    0.190</td> <td>    1.832</td> <td> 0.076</td> <td>   -0.038</td> <td>    0.735</td>\n",
       "</tr>\n",
       "<tr>\n",
       "  <th>17</th>    <td>    0.5704</td> <td>    0.349</td> <td>    1.635</td> <td> 0.111</td> <td>   -0.139</td> <td>    1.279</td>\n",
       "</tr>\n",
       "<tr>\n",
       "  <th>3</th>     <td>    0.1186</td> <td>    0.085</td> <td>    1.393</td> <td> 0.173</td> <td>   -0.054</td> <td>    0.292</td>\n",
       "</tr>\n",
       "<tr>\n",
       "  <th>15</th>    <td>    0.3391</td> <td>    0.248</td> <td>    1.367</td> <td> 0.181</td> <td>   -0.165</td> <td>    0.843</td>\n",
       "</tr>\n",
       "<tr>\n",
       "  <th>10</th>    <td>   -0.2001</td> <td>    0.168</td> <td>   -1.189</td> <td> 0.243</td> <td>   -0.542</td> <td>    0.142</td>\n",
       "</tr>\n",
       "</table>\n",
       "<table class=\"simpletable\">\n",
       "<tr>\n",
       "  <th>Omnibus:</th>       <td> 1.754</td> <th>  Durbin-Watson:     </th> <td>   2.024</td>\n",
       "</tr>\n",
       "<tr>\n",
       "  <th>Prob(Omnibus):</th> <td> 0.416</td> <th>  Jarque-Bera (JB):  </th> <td>   1.151</td>\n",
       "</tr>\n",
       "<tr>\n",
       "  <th>Skew:</th>          <td>-0.004</td> <th>  Prob(JB):          </th> <td>   0.562</td>\n",
       "</tr>\n",
       "<tr>\n",
       "  <th>Kurtosis:</th>      <td> 2.208</td> <th>  Cond. No.          </th> <td>    9.70</td>\n",
       "</tr>\n",
       "</table><br/><br/>Warnings:<br/>[1] Standard Errors assume that the covariance matrix of the errors is correctly specified."
      ],
      "text/plain": [
       "<class 'statsmodels.iolib.summary.Summary'>\n",
       "\"\"\"\n",
       "                            OLS Regression Results                            \n",
       "==============================================================================\n",
       "Dep. Variable:                      y   R-squared:                       0.514\n",
       "Model:                            OLS   Adj. R-squared:                  0.386\n",
       "Method:                 Least Squares   F-statistic:                     4.003\n",
       "Date:                Sun, 05 Aug 2018   Prob (F-statistic):            0.00146\n",
       "Time:                        21:38:15   Log-Likelihood:                -46.538\n",
       "No. Observations:                  44   AIC:                             113.1\n",
       "Df Residuals:                      34   BIC:                             130.9\n",
       "Df Model:                           9                                         \n",
       "Covariance Type:            nonrobust                                         \n",
       "==============================================================================\n",
       "                 coef    std err          t      P>|t|      [0.025      0.975]\n",
       "------------------------------------------------------------------------------\n",
       "const       4.163e-17      0.119   3.48e-16      1.000      -0.243       0.243\n",
       "0              0.0799      0.036      2.222      0.033       0.007       0.153\n",
       "4             -0.2025      0.086     -2.362      0.024      -0.377      -0.028\n",
       "5              0.2150      0.094      2.292      0.028       0.024       0.406\n",
       "8             -0.4418      0.147     -3.000      0.005      -0.741      -0.143\n",
       "12             0.3485      0.190      1.832      0.076      -0.038       0.735\n",
       "17             0.5704      0.349      1.635      0.111      -0.139       1.279\n",
       "3              0.1186      0.085      1.393      0.173      -0.054       0.292\n",
       "15             0.3391      0.248      1.367      0.181      -0.165       0.843\n",
       "10            -0.2001      0.168     -1.189      0.243      -0.542       0.142\n",
       "==============================================================================\n",
       "Omnibus:                        1.754   Durbin-Watson:                   2.024\n",
       "Prob(Omnibus):                  0.416   Jarque-Bera (JB):                1.151\n",
       "Skew:                          -0.004   Prob(JB):                        0.562\n",
       "Kurtosis:                       2.208   Cond. No.                         9.70\n",
       "==============================================================================\n",
       "\n",
       "Warnings:\n",
       "[1] Standard Errors assume that the covariance matrix of the errors is correctly specified.\n",
       "\"\"\""
      ]
     },
     "execution_count": 804,
     "metadata": {},
     "output_type": "execute_result"
    }
   ],
   "source": [
    "#.iloc[:,[0,4,5,8,12]]\n",
    "testingset = principalDf.iloc[:,[0,4,5,8,12,17,3,15,10]]\n",
    "testingset = sm.add_constant(testingset)\n",
    "target = list(stats.mstats.zscore(regressionlist[0][0][2]))\n",
    "model = sm.OLS(target, testingset).fit()\n",
    "predictions = model.predict(testingset)\n",
    "model.summary()\n",
    "#plt.scatter(target, model.predict(testingset))\n",
    "#print(\"r = %f, p = %f\" % pearsonr(target,model.predict(testingset)))\n",
    "\n"
   ]
  },
  {
   "cell_type": "code",
   "execution_count": 812,
   "metadata": {},
   "outputs": [
    {
     "name": "stdout",
     "output_type": "stream",
     "text": [
      "[1.0590259308659227, 1.0173031630303377, 1.0766046441353188, 1.1272223845966347, 1.1780671346039788, 1.1123124703368352, 1.0485223339502756, 1.048350969268368, 1.0830142900780513, 0.9656569415282021, 1.066856259484718, 1.089227652424503, 1.1622592561117542, 1.1913453729177248, 1.2422672483545179, 1.2503490518423777, 1.2734318334616144, 1.4886162871755662, 1.4885519846037876, 1.5255934131483981, 1.6378274703665814, 2.0336564021332837, 2.1387710380592138, 2.510323996214288]\n"
     ]
    },
    {
     "data": {
      "image/png": "[encoded data removed]",
      "text/plain": [
       "<Figure size 432x288 with 1 Axes>"
      ]
     },
     "metadata": {},
     "output_type": "display_data"
    }
   ],
   "source": [
    "type = 'neg_mean_squared_error'\n",
    "#type = 'r2'\n",
    "\n",
    "n = len(principalComponents)\n",
    "kf_10 = model_selection.KFold(n_splits=10, shuffle=True, random_state=1)\n",
    "lm = linear_model.LinearRegression()\n",
    "msep=[]\n",
    "\n",
    "score = -1*model_selection.cross_val_score(lm, np.ones((n,1)), target, cv=kf_10, scoring=type).mean()\n",
    "msep.append(score)\n",
    "\n",
    "for i in np.arange(1, 24):\n",
    "    score = -1*model_selection.cross_val_score(lm, principalComponents[:,:i], target, cv=kf_10, scoring=type).mean()\n",
    "    msep.append(score)\n",
    "    \n",
    "print(msep)\n",
    "    \n",
    "plt.plot(msep, '-v')\n",
    "plt.xlabel('Number of principal components in regression')\n",
    "plt.ylabel('MSEP')\n",
    "plt.title('Log Cortisol Delta (z-score)')\n",
    "plt.xlim(xmin=-1);"
   ]
  },
  {
   "cell_type": "code",
   "execution_count": 832,
   "metadata": {},
   "outputs": [
    {
     "data": {
      "text/plain": [
       "MSCEIT_TOT      -0.009310\n",
       "MSCEIT_EXP       0.143658\n",
       "MSCEIT_STRAT    -0.145919\n",
       "MSCEIT_PERC     -0.202381\n",
       "MSCEIT_USE       0.323668\n",
       "MSCEIT_UNDER    -0.116371\n",
       "MSCEIT_MANAGE   -0.169410\n",
       "EQI_TOT         -0.019593\n",
       "EQI_SP          -0.216534\n",
       "EQI_SR          -0.332383\n",
       "EQI_SA           0.013647\n",
       "EQI_ES          -0.134222\n",
       "EQI_SE          -0.003197\n",
       "EQI_EE           0.188650\n",
       "EQI_AS          -0.165428\n",
       "EQI_IN          -0.080629\n",
       "EQI_IS          -0.155954\n",
       "EQI_IR          -0.111146\n",
       "EQI_EM          -0.377539\n",
       "EQI_RE           0.261172\n",
       "EQI_DM           0.059117\n",
       "EQI_PS           0.148539\n",
       "EQI_RT           0.204387\n",
       "EQI_IC          -0.128452\n",
       "EQI_SM           0.222398\n",
       "EQI_FL           0.020672\n",
       "EQI_ST           0.358445\n",
       "EQI_OP           0.097202\n",
       "EQI_HA          -0.074375\n",
       "Name: 8, dtype: float64"
      ]
     },
     "execution_count": 832,
     "metadata": {},
     "output_type": "execute_result"
    }
   ],
   "source": [
    "pca = PCA(n_components='mle')\n",
    "pca.fit_transform(df)\n",
    "principalComponents = pca.fit_transform(df)\n",
    "principalDf = pd.DataFrame(data = principalComponents)\n",
    "factorload = pd.DataFrame(pca.components_, columns=chosencols)\n",
    "factorload.iloc[8,]\n",
    "\n",
    "\n"
   ]
  },
  {
   "cell_type": "code",
   "execution_count": 794,
   "metadata": {},
   "outputs": [
    {
     "name": "stderr",
     "output_type": "stream",
     "text": [
      "//anaconda/envs/py35/lib/python3.6/site-packages/scipy/stats/stats.py:1713: FutureWarning: Using a non-tuple sequence for multidimensional indexing is deprecated; use `arr[tuple(seq)]` instead of `arr[seq]`. In the future this will be interpreted as an array index, `arr[np.array(seq)]`, which will result either in an error or a different result.\n",
      "  return np.add.reduce(sorted[indexer] * weights, axis=axis) / sumval\n"
     ]
    },
    {
     "name": "stdout",
     "output_type": "stream",
     "text": [
      "r = -0.35854990129487363, p = 0.01685075280781924\n"
     ]
    },
    {
     "data": {
      "image/png": "[encoded data removed]",
      "text/plain": [
       "<Figure size 360x360 with 1 Axes>"
      ]
     },
     "metadata": {},
     "output_type": "display_data"
    }
   ],
   "source": [
    "#Edit These\n",
    "SAVE = False\n",
    "var1 = principalDf.iloc[:,8]\n",
    "var2 = list(stats.mstats.zscore(regressionlist[0][0][2]))\n",
    "var1label = \"Log Cortisol Delta (z-score)\"\n",
    "var2label = \"MSCEIT Managing Emotions Branch Score\"\n",
    "title = \"MSCEIT Managing Emotions Branch Score vs.\\nPre-Post TSST Difference in Cortisol (N=%s)\" % len(var1)\n",
    "savename = \"Analyses\\\\MSCEIT\\\\MSCEITManage-TSSTStress.pdf\"\n",
    "\n",
    "#--------------------------------------------\n",
    "table = pd.DataFrame(\n",
    "    {var1label: var1,\n",
    "    var2label: var2\n",
    "    })\n",
    "for x in table.columns:\n",
    "    table = table[np.isfinite(table[x])]\n",
    "\n",
    "lm = seaborn.lmplot(x=var1label, y=var2label, palette=('r'), data=table, legend_out=False)\n",
    "ax = plt.gca()\n",
    "ax.set_title(\"%s\\nr=%.4f, p=%.4f\" % (title,pearsonr(table[var1label],table[var2label])[0],pearsonr(table[var1label],table[var2label])[1]))\n",
    "print(\"r = %s, p = %s\" % pearsonr(table[var1label],table[var2label]))\n",
    "if SAVE == True:\n",
    "    lm.savefig(root / savename, bbox_inches='tight')"
   ]
  },
  {
   "cell_type": "code",
   "execution_count": 798,
   "metadata": {},
   "outputs": [
    {
     "data": {
      "text/plain": [
       "Text(0.5,0,'Log Cortisol Delta (z-score)')"
      ]
     },
     "execution_count": 798,
     "metadata": {},
     "output_type": "execute_result"
    },
    {
     "data": {
      "image/png": "[encoded data removed]",
      "text/plain": [
       "<Figure size 432x288 with 1 Axes>"
      ]
     },
     "metadata": {},
     "output_type": "display_data"
    }
   ],
   "source": [
    "seaborn.residplot(target, model.predict(testingset), lowess=True)\n",
    "ax = plt.gca()\n",
    "ax.set_ylabel(\"Residuals\")\n",
    "ax.set_xlabel(\"Log Cortisol Delta (z-score)\")"
   ]
  },
  {
   "cell_type": "code",
   "execution_count": 835,
   "metadata": {},
   "outputs": [
    {
     "ename": "ValueError",
     "evalue": "The truth value of an array with more than one element is ambiguous. Use a.any() or a.all()",
     "output_type": "error",
     "traceback": [
      "\u001b[0;31m---------------------------------------------------------------------------\u001b[0m",
      "\u001b[0;31mValueError\u001b[0m                                Traceback (most recent call last)",
      "\u001b[0;32m<ipython-input-835-fb29c7eef743>\u001b[0m in \u001b[0;36m<module>\u001b[0;34m()\u001b[0m\n\u001b[1;32m      7\u001b[0m \u001b[0;34m\u001b[0m\u001b[0m\n\u001b[1;32m      8\u001b[0m \u001b[0;31m# Sort the (eigenvalue, eigenvector) tuples from high to low\u001b[0m\u001b[0;34m\u001b[0m\u001b[0;34m\u001b[0m\u001b[0m\n\u001b[0;32m----> 9\u001b[0;31m \u001b[0meig_pairs\u001b[0m\u001b[0;34m.\u001b[0m\u001b[0msort\u001b[0m\u001b[0;34m(\u001b[0m\u001b[0;34m)\u001b[0m\u001b[0;34m\u001b[0m\u001b[0m\n\u001b[0m\u001b[1;32m     10\u001b[0m \u001b[0meig_pairs\u001b[0m\u001b[0;34m.\u001b[0m\u001b[0mreverse\u001b[0m\u001b[0;34m(\u001b[0m\u001b[0;34m)\u001b[0m\u001b[0;34m\u001b[0m\u001b[0m\n\u001b[1;32m     11\u001b[0m \u001b[0;34m\u001b[0m\u001b[0m\n",
      "\u001b[0;31mValueError\u001b[0m: The truth value of an array with more than one element is ambiguous. Use a.any() or a.all()"
     ]
    }
   ],
   "source": [
    "cov_mat = np.cov(df)\n",
    "eig_vals, eig_vecs = np.linalg.eig(cov_mat)\n",
    "#for ev in eig_vecs:\n",
    "#    np.testing.assert_array_almost_equal(1.0, np.linalg.norm(ev))\n",
    "# Make a list of (eigenvalue, eigenvector) tuples\n",
    "eig_pairs = [(np.abs(eig_vals[i]), eig_vecs[:,i]) for i in range(len(eig_vals))]\n",
    "\n",
    "# Sort the (eigenvalue, eigenvector) tuples from high to low\n",
    "eig_pairs.sort()\n",
    "eig_pairs.reverse()\n",
    "\n",
    "# Visually confirm that the list is correctly sorted by decreasing eigenvalues\n",
    "print('Eigenvalues in descending order:')\n",
    "for i in eig_pairs:\n",
    "    print(i[0])"
   ]
  },
  {
   "cell_type": "code",
   "execution_count": 851,
   "metadata": {},
   "outputs": [
    {
     "data": {
      "text/plain": [
       "44"
      ]
     },
     "execution_count": 851,
     "metadata": {},
     "output_type": "execute_result"
    }
   ],
   "source": [
    "len(intersectlist)"
   ]
  },
  {
   "cell_type": "code",
   "execution_count": 872,
   "metadata": {},
   "outputs": [],
   "source": [
    "\n",
    "genderlist = []\n",
    "for x in other[1]:\n",
    "    if x[0] in intersectlist:\n",
    "        genderlist.append(x[1])"
   ]
  },
  {
   "cell_type": "code",
   "execution_count": 874,
   "metadata": {},
   "outputs": [
    {
     "data": {
      "text/plain": [
       "30"
      ]
     },
     "execution_count": 874,
     "metadata": {},
     "output_type": "execute_result"
    }
   ],
   "source": [
    "genderlist.count('F')"
   ]
  },
  {
   "cell_type": "code",
   "execution_count": 855,
   "metadata": {},
   "outputs": [
    {
     "data": {
      "text/plain": [
       "[[13, 'F'],\n",
       " [19, 'M'],\n",
       " [32, 'F'],\n",
       " [35, 'F'],\n",
       " [40, 'M'],\n",
       " [42, 'F'],\n",
       " [49, 'F'],\n",
       " [50, 'M'],\n",
       " [51, 'F'],\n",
       " [61, 'M'],\n",
       " [62, 'F'],\n",
       " [64, 'M'],\n",
       " [68, 'F'],\n",
       " [73, 'F'],\n",
       " [79, 'F'],\n",
       " [84, 'M'],\n",
       " [100, 'F'],\n",
       " [126, 'M'],\n",
       " [127, 'F'],\n",
       " [149, 'M'],\n",
       " [153, 'M'],\n",
       " [165, 'F'],\n",
       " [168, 'F'],\n",
       " [170, 'F'],\n",
       " [172, 'M'],\n",
       " [178, 'F'],\n",
       " [181, 'F'],\n",
       " [185, 'M'],\n",
       " [193, 'F'],\n",
       " [199, 'F'],\n",
       " [203, 'F'],\n",
       " [206, 'F'],\n",
       " [214, 'M'],\n",
       " [233, 'F'],\n",
       " [237, 'F'],\n",
       " [260, 'F'],\n",
       " [262, 'F'],\n",
       " [263, 'F'],\n",
       " [271, 'M'],\n",
       " [274, 'F'],\n",
       " [290, 'M'],\n",
       " [291, 'F'],\n",
       " [311, 'F'],\n",
       " [319, 'F'],\n",
       " [325, 'M'],\n",
       " [326, 'F'],\n",
       " [330, 'M'],\n",
       " [344, 'F'],\n",
       " [346, 'F']]"
      ]
     },
     "execution_count": 855,
     "metadata": {},
     "output_type": "execute_result"
    }
   ],
   "source": [
    "other[1]"
   ]
  },
  {
   "cell_type": "code",
   "execution_count": null,
   "metadata": {},
   "outputs": [],
   "source": []
  }
 ],
 "metadata": {
  "kernelspec": {
   "display_name": "Python 3",
   "language": "python",
   "name": "python3"
  },
  "language_info": {
   "codemirror_mode": {
    "name": "ipython",
    "version": 3
   },
   "file_extension": ".py",
   "mimetype": "text/x-python",
   "name": "python",
   "nbconvert_exporter": "python",
   "pygments_lexer": "ipython3",
   "version": "3.6.3"
  }
 },
 "nbformat": 4,
 "nbformat_minor": 2
}
